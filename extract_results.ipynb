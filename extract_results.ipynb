{
 "cells": [
  {
   "cell_type": "code",
   "execution_count": 1,
   "metadata": {},
   "outputs": [],
   "source": [
    "import numpy as np"
   ]
  },
  {
   "cell_type": "code",
   "execution_count": 2,
   "metadata": {},
   "outputs": [
    {
     "name": "stdout",
     "output_type": "stream",
     "text": [
      "Function\tBest\tWorst\tMedian\tMean\tStd\n",
      "f1\t0.00E+00\t0.00E+00\t0.00E+00\t0.00E+00\t0.00E+00\n",
      "f2\t1.32E-05\t4.91E+01\t4.49E+01\t3.36E+01\t2.02E+01\n",
      "f3\t0.00E+00\t0.00E+00\t0.00E+00\t0.00E+00\t0.00E+00\n",
      "f4\t1.59E+01\t2.98E+01\t2.29E+01\t2.29E+01\t3.32E+00\n",
      "f5\t0.00E+00\t0.00E+00\t0.00E+00\t0.00E+00\t0.00E+00\n",
      "f6\t1.20E+00\t3.41E+01\t8.52E+00\t9.46E+00\t6.95E+00\n",
      "f7\t9.95E-01\t2.13E+01\t5.64E+00\t7.12E+00\t6.11E+00\n",
      "f8\t1.30E+01\t2.12E+01\t2.06E+01\t2.00E+01\t1.93E+00\n",
      "f9\t1.81E+02\t1.81E+02\t1.81E+02\t1.81E+02\t5.68E-14\n",
      "f10\t1.00E+02\t1.00E+02\t1.00E+02\t1.00E+02\t4.64E-02\n",
      "f11\t0.00E+00\t3.00E+02\t3.00E+02\t1.70E+02\t1.49E+02\n",
      "f12\t2.30E+02\t2.35E+02\t2.33E+02\t2.33E+02\t1.13E+00\n"
     ]
    }
   ],
   "source": [
    "print(\"Function\\tBest\\tWorst\\tMedian\\tMean\\tStd\")\n",
    "\n",
    "for i in range(1, 13):\n",
    "    data = []\n",
    "    with open(\"APGSK_IMODE/APGSK_IMODE_{}_20.txt\".format(i)) as f:\n",
    "        arr = [[float (x) for x in line.split()] for line in f]\n",
    "        data.append(arr[-2])\n",
    "        \n",
    "        for idx in range(0, len(data[-1])):\n",
    "            if data[-1][idx] <= 1e-8:\n",
    "                data[-1][idx] = 0\n",
    "\n",
    "    print(\"f{}\\t{:.2E}\\t{:.2E}\\t{:.2E}\\t{:.2E}\\t{:.2E}\".format(i, np.min(data[0]), np.max(data[0]), np.median(data[0]), np.mean(data[0]), np.std(data[0])))"
   ]
  }
 ],
 "metadata": {
  "kernelspec": {
   "display_name": "Python 3",
   "language": "python",
   "name": "python3"
  },
  "language_info": {
   "codemirror_mode": {
    "name": "ipython",
    "version": 3
   },
   "file_extension": ".py",
   "mimetype": "text/x-python",
   "name": "python",
   "nbconvert_exporter": "python",
   "pygments_lexer": "ipython3",
   "version": "3.7.3"
  }
 },
 "nbformat": 4,
 "nbformat_minor": 2
}
