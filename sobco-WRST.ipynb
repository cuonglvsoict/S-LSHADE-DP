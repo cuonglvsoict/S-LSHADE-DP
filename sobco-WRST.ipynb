{
 "cells": [
  {
   "cell_type": "code",
   "execution_count": 1,
   "metadata": {
    "scrolled": false
   },
   "outputs": [
    {
     "ename": "ModuleNotFoundError",
     "evalue": "No module named 'scipy'",
     "output_type": "error",
     "traceback": [
      "\u001b[0;31m---------------------------------------------------------------------------\u001b[0m",
      "\u001b[0;31mModuleNotFoundError\u001b[0m                       Traceback (most recent call last)",
      "\u001b[0;32m/tmp/ipykernel_3334/3354575443.py\u001b[0m in \u001b[0;36m<module>\u001b[0;34m\u001b[0m\n\u001b[1;32m      2\u001b[0m \u001b[0;31m# !{sys.executable} -m pip install --upgrade scipy\u001b[0m\u001b[0;34m\u001b[0m\u001b[0;34m\u001b[0m\u001b[0;34m\u001b[0m\u001b[0m\n\u001b[1;32m      3\u001b[0m \u001b[0;34m\u001b[0m\u001b[0m\n\u001b[0;32m----> 4\u001b[0;31m \u001b[0;32mfrom\u001b[0m \u001b[0mscipy\u001b[0m\u001b[0;34m.\u001b[0m\u001b[0mstats\u001b[0m \u001b[0;32mimport\u001b[0m \u001b[0mranksums\u001b[0m\u001b[0;34m\u001b[0m\u001b[0;34m\u001b[0m\u001b[0m\n\u001b[0m\u001b[1;32m      5\u001b[0m \u001b[0;32mimport\u001b[0m \u001b[0mnumpy\u001b[0m \u001b[0;32mas\u001b[0m \u001b[0mnp\u001b[0m\u001b[0;34m\u001b[0m\u001b[0;34m\u001b[0m\u001b[0m\n\u001b[1;32m      6\u001b[0m \u001b[0;34m\u001b[0m\u001b[0m\n",
      "\u001b[0;31mModuleNotFoundError\u001b[0m: No module named 'scipy'"
     ]
    }
   ],
   "source": [
    "# import sys\n",
    "# !{sys.executable} -m pip install --upgrade scipy\n",
    "\n",
    "from scipy.stats import ranksums\n",
    "import numpy as np\n",
    "\n",
    "ALPHA = 0.05\n",
    "\n",
    "sub_path = [\n",
    "            \"S-LSHADE-DP/S-LSHADE-DP_\",\n",
    "            \"S-LSHADE/S-LSHADE_\",\n",
    "            \"S-LSHADE-DP-T1/S-LSHADE-DP-T1_\",\n",
    "            \"S-LSHADE-DP-C1/S-LSHADE-DP-C1_\",\n",
    "            \"LSHADE-DP/LSHADE-DP_\",\n",
    "    \n",
    "#             \"others/IMODE/IMODE_\",\n",
    "#             \"others/APGSK_IMODE/APGSK_IMODE_\",\n",
    "#             \"others/NL-SHADE-RSP/build/NL-SHADE-RSP_\"   \n",
    "            ]\n",
    "\n",
    "print(sub_path)"
   ]
  },
  {
   "cell_type": "code",
   "execution_count": null,
   "metadata": {
    "scrolled": true
   },
   "outputs": [],
   "source": [
    "count_sign = [[0,0,0] for i in range(len(sub_path)-1)]\n",
    "for i in range(1, 13):\n",
    "    data = []\n",
    "    for algo in sub_path:\n",
    "        with open(algo + \"{}_20.txt\".format(i)) as f:\n",
    "            arr = [[float (x) for x in line.split()] for line in f]\n",
    "            data.append(arr[-2])\n",
    "            for idx in range(0, len(data[-1])):\n",
    "                if data[-1][idx] <= 1e-8:\n",
    "                    data[-1][idx] = 0\n",
    "\n",
    "\n",
    "    pivot = np.mean(data[0])\n",
    "    print(\"f{}\\t{:.2E} ({:.2E})\".format(i, pivot, np.std(data[0])), end=\"\")\n",
    "\n",
    "    for j in range(1, len(data)):\n",
    "        w, p = ranksums(data[0], data[j])\n",
    "        avg = np.mean(data[j])\n",
    "\n",
    "        sign = \"\"\n",
    "        if p > ALPHA:\n",
    "            sign = \"=\"\n",
    "            count_sign[j-1][0]+=1\n",
    "        elif pivot < avg:\n",
    "            sign = \"+\"\n",
    "            count_sign[j-1][1]+=1\n",
    "        else:\n",
    "             sign = \"-\"\n",
    "             count_sign[j-1][2]+=1\n",
    "\n",
    "\n",
    "        print(\"\\t{:.2E} ({:.2E}) {}\".format(avg, np.std(data[j]), sign), end=\"\")\n",
    "\n",
    "    print()\n",
    "print()\n",
    "\n",
    "print(\"+/=/-\\t\\t\", end=\"\")\n",
    "for j in range(1, len(sub_path)):\n",
    "    print(\"{}/{}/{}\\t\\t\".format(count_sign[j-1][1], count_sign[j-1][0], count_sign[j-1][2]), end=\"\")"
   ]
  },
  {
   "cell_type": "code",
   "execution_count": null,
   "metadata": {},
   "outputs": [],
   "source": []
  }
 ],
 "metadata": {
  "kernelspec": {
   "display_name": "Python 3 (ipykernel)",
   "language": "python",
   "name": "python3"
  },
  "language_info": {
   "codemirror_mode": {
    "name": "ipython",
    "version": 3
   },
   "file_extension": ".py",
   "mimetype": "text/x-python",
   "name": "python",
   "nbconvert_exporter": "python",
   "pygments_lexer": "ipython3",
   "version": "3.8.10"
  }
 },
 "nbformat": 4,
 "nbformat_minor": 2
}
