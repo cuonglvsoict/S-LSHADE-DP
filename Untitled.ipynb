{
 "cells": [
  {
   "cell_type": "code",
   "execution_count": 1,
   "metadata": {},
   "outputs": [],
   "source": [
    "import numpy as np\n",
    "\n",
    "codes = [\"000\", \"001\", \"010\", \"011\", \"100\", \"101\", \"110\", \"111\"]\n",
    "\n",
    "for code in codes:\n",
    "    for i in range (1, 11):\n",
    "        with open(\"APGSK_IMODE/APGSK_IMODE_{}_{}_10.txt\".format(i, code)) as f:\n",
    "            arr = [[float (x) for x in line.split()] for line in f]\n",
    "\n",
    "            with open(\"shit/APGSK_IMODE_({})_{}_10.txt\".format(code, i), \"w\") as fout:\n",
    "                for row in arr:\n",
    "                    for j in range(0, 30):\n",
    "                        fout.write(\"{:e}\".format(row[j]))\n",
    "                        fout.write(\" \")\n",
    "                    fout.write(\"\\n\")\n",
    "                for j in range(0, 30):\n",
    "                    fout.write(\"{:e}\".format(0))\n",
    "                    fout.write(\" \")"
   ]
  },
  {
   "cell_type": "markdown",
   "metadata": {},
   "source": [
    "## "
   ]
  }
 ],
 "metadata": {
  "kernelspec": {
   "display_name": "Python 3",
   "language": "python",
   "name": "python3"
  },
  "language_info": {
   "codemirror_mode": {
    "name": "ipython",
    "version": 3
   },
   "file_extension": ".py",
   "mimetype": "text/x-python",
   "name": "python",
   "nbconvert_exporter": "python",
   "pygments_lexer": "ipython3",
   "version": "3.7.3"
  }
 },
 "nbformat": 4,
 "nbformat_minor": 2
}
