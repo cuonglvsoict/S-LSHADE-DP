{
 "cells": [
  {
   "cell_type": "code",
   "execution_count": 1,
   "metadata": {
    "scrolled": false
   },
   "outputs": [
    {
     "name": "stdout",
     "output_type": "stream",
     "text": [
      "['S-LSHADE-DP/S-LSHADE-DP_', 'IMODE/IMODE_', 'APGSK_IMODE/APGSK_IMODE_', 'NL-SHADE-RSP/build/NL-SHADE-RSP_']\n"
     ]
    }
   ],
   "source": [
    "from scipy.stats import wilcoxon\n",
    "import numpy as np\n",
    "\n",
    "ALPHA = 0.05\n",
    "\n",
    "sub_path = [\n",
    "            \"S-LSHADE-DP/S-LSHADE-DP_\",\n",
    "#             \"S-LSHADE-T1/S-LSHADE-T1_\",\n",
    "#             \"LSHADE/LSHADE_\",\n",
    "            \"IMODE/IMODE_\",\n",
    "            \"APGSK_IMODE/APGSK_IMODE_\",\n",
    "            \"NL-SHADE-RSP/build/NL-SHADE-RSP_\"\n",
    "            ]\n",
    "\n",
    "print(sub_path)"
   ]
  },
  {
   "cell_type": "code",
   "execution_count": 2,
   "metadata": {
    "scrolled": true
   },
   "outputs": [
    {
     "name": "stdout",
     "output_type": "stream",
     "text": [
      "f1\t0.00E+00 (0.00E+00)\t0.00E+00 (0.00E+00) =\t0.00E+00 (0.00E+00) =\t0.00E+00 (0.00E+00) =\n",
      "f2\t0.00E+00 (0.00E+00)\t0.00E+00 (0.00E+00) =\t0.00E+00 (0.00E+00) =\t0.00E+00 (0.00E+00) =\n",
      "f3\t0.00E+00 (0.00E+00)\t0.00E+00 (0.00E+00) =\t0.00E+00 (0.00E+00) =\t0.00E+00 (0.00E+00) =\n",
      "f4\t4.72E+00 (1.33E+00)\t7.86E+00 (1.75E+00) +\t3.98E+00 (1.23E+00) =\t1.27E+01 (3.45E+00) +\n",
      "f5\t0.00E+00 (0.00E+00)\t1.87E-04 (1.01E-03) =\t0.00E+00 (0.00E+00) =\t0.00E+00 (0.00E+00) =\n",
      "f6\t2.60E-01 (1.27E-01)\t3.40E-01 (1.20E-01) +\t1.47E-01 (9.53E-02) -\t1.99E-01 (1.39E-01) =\n",
      "f7\t0.00E+00 (0.00E+00)\t4.67E-05 (1.20E-04) =\t0.00E+00 (0.00E+00) =\t1.60E-08 (8.64E-08) =\n",
      "f8\t1.89E-01 (2.73E-01)\t7.30E-01 (2.82E-01) +\t2.73E-01 (2.29E-01) +\t1.01E-01 (1.63E-01) =\n",
      "f9\t1.91E+02 (8.54E+01)\t2.29E+02 (8.53E-14) =\t2.29E+02 (8.53E-14) =\t2.14E+02 (5.72E+01) =\n",
      "f10\t1.25E-02 (6.35E-02)\t5.57E+01 (4.48E+01) +\t1.00E+02 (3.40E-02) +\t3.96E-02 (6.74E-02) +\n",
      "f11\t0.00E+00 (0.00E+00)\t0.00E+00 (0.00E+00) =\t0.00E+00 (0.00E+00) =\t0.00E+00 (0.00E+00) =\n",
      "f12\t1.62E+02 (1.77E+00)\t1.62E+02 (1.27E+00) =\t1.60E+02 (1.37E+00) -\t1.64E+02 (9.77E-01) +\n",
      "\n",
      "+/=/-\t\t4/8/0\t\t2/8/2\t\t3/9/0\t\t"
     ]
    }
   ],
   "source": [
    "count_sign = [[0,0,0] for i in range(len(sub_path)-1)]\n",
    "for i in range(1, 13):\n",
    "    data = []\n",
    "    for algo in sub_path:\n",
    "        with open(algo + \"{}_10.txt\".format(i)) as f:\n",
    "            arr = [[float (x) for x in line.split()] for line in f]\n",
    "            data.append(arr[-2])\n",
    "            for idx in range(0, len(data[-1])):\n",
    "                if data[-1][idx] <= 1e-8:\n",
    "                    data[-1][idx] = 0\n",
    "\n",
    "\n",
    "    pivot = np.mean(data[0])\n",
    "    print(\"f{}\\t{:.2E} ({:.2E})\".format(i, pivot, np.std(data[0])), end=\"\")\n",
    "\n",
    "    for j in range(1, len(data)):\n",
    "        w, p = wilcoxon(data[0], data[j], zero_method=\"zsplit\")\n",
    "        avg = np.mean(data[j])\n",
    "\n",
    "        sign = \"\"\n",
    "        if p > ALPHA:\n",
    "            sign = \"=\"\n",
    "            count_sign[j-1][0]+=1\n",
    "        elif pivot < avg:\n",
    "            sign = \"+\"\n",
    "            count_sign[j-1][1]+=1\n",
    "        else:\n",
    "             sign = \"-\"\n",
    "             count_sign[j-1][2]+=1\n",
    "\n",
    "\n",
    "        print(\"\\t{:.2E} ({:.2E}) {}\".format(avg, np.std(data[j]), sign), end=\"\")\n",
    "\n",
    "    print()\n",
    "print()\n",
    "\n",
    "print(\"+/=/-\\t\\t\", end=\"\")\n",
    "for j in range(1, len(sub_path)):\n",
    "    print(\"{}/{}/{}\\t\\t\".format(count_sign[j-1][1], count_sign[j-1][0], count_sign[j-1][2]), end=\"\")"
   ]
  },
  {
   "cell_type": "code",
   "execution_count": null,
   "metadata": {},
   "outputs": [],
   "source": []
  }
 ],
 "metadata": {
  "kernelspec": {
   "display_name": "Python 3",
   "language": "python",
   "name": "python3"
  },
  "language_info": {
   "codemirror_mode": {
    "name": "ipython",
    "version": 3
   },
   "file_extension": ".py",
   "mimetype": "text/x-python",
   "name": "python",
   "nbconvert_exporter": "python",
   "pygments_lexer": "ipython3",
   "version": "3.7.3"
  }
 },
 "nbformat": 4,
 "nbformat_minor": 2
}
